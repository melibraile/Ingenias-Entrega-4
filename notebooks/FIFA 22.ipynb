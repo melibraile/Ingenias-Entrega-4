{
 "cells": [
  {
   "cell_type": "markdown",
   "id": "e02c5442",
   "metadata": {},
   "source": [
    "Segmentación de jugadores: agrupar a los jugadores en clusters basados en sus características, como la posición, la puntuación general, la edad, el valor de mercado, etc. Esto puede ayudarte a identificar diferentes tipos de jugadores y sus perfiles."
   ]
  },
  {
   "cell_type": "code",
   "execution_count": 1,
   "id": "3d4269d9",
   "metadata": {},
   "outputs": [
    {
     "data": {
      "text/html": [
       "        <script type=\"text/javascript\">\n",
       "        window.PlotlyConfig = {MathJaxConfig: 'local'};\n",
       "        if (window.MathJax && window.MathJax.Hub && window.MathJax.Hub.Config) {window.MathJax.Hub.Config({SVG: {font: \"STIX-Web\"}});}\n",
       "        if (typeof require !== 'undefined') {\n",
       "        require.undef(\"plotly\");\n",
       "        requirejs.config({\n",
       "            paths: {\n",
       "                'plotly': ['https://cdn.plot.ly/plotly-2.12.1.min']\n",
       "            }\n",
       "        });\n",
       "        require(['plotly'], function(Plotly) {\n",
       "            window._Plotly = Plotly;\n",
       "        });\n",
       "        }\n",
       "        </script>\n",
       "        "
      ]
     },
     "metadata": {},
     "output_type": "display_data"
    }
   ],
   "source": [
    "#importa numpy\n",
    "import numpy as np\n",
    "#importa pandas\n",
    "import pandas as pd\n",
    "#Importa las librerias matplotlib, seaborn y Scipy\n",
    "import matplotlib.pyplot as plt\n",
    "import seaborn as sns\n",
    "from scipy import stats\n",
    "%matplotlib inline\n",
    "import matplotlib.cm as cm\n",
    "import itertools\n",
    "import warnings\n",
    "warnings.filterwarnings(\"ignore\")\n",
    "import io\n",
    "from plotly.offline import init_notebook_mode, plot,iplot\n",
    "import plotly.graph_objs as go\n",
    "init_notebook_mode(connected=True)\n",
    "import plotly.tools as tls#visualization\n",
    "import plotly.figure_factory as ff#visualization\n",
    "import seaborn as sns"
   ]
  },
  {
   "cell_type": "code",
   "execution_count": 2,
   "id": "68d9cd1e",
   "metadata": {},
   "outputs": [],
   "source": [
    "fifa = pd.read_csv('fifa_22.csv', encoding='latin1')"
   ]
  },
  {
   "cell_type": "code",
   "execution_count": 3,
   "id": "8178ff7c",
   "metadata": {},
   "outputs": [
    {
     "data": {
      "text/plain": [
       "pandas.core.frame.DataFrame"
      ]
     },
     "execution_count": 3,
     "metadata": {},
     "output_type": "execute_result"
    }
   ],
   "source": [
    "#Accedemos al tipo de estrutura de datos con el type.\n",
    "type(fifa)"
   ]
  },
  {
   "cell_type": "code",
   "execution_count": 4,
   "id": "c9ae8c01",
   "metadata": {},
   "outputs": [
    {
     "data": {
      "text/plain": [
       "sofifa_id            int64\n",
       "player_url          object\n",
       "short_name          object\n",
       "long_name           object\n",
       "player_positions    object\n",
       "                     ...  \n",
       "player_face_url     object\n",
       "club_logo_url       object\n",
       "club_flag_url       object\n",
       "nation_logo_url     object\n",
       "nation_flag_url     object\n",
       "Length: 110, dtype: object"
      ]
     },
     "execution_count": 4,
     "metadata": {},
     "output_type": "execute_result"
    }
   ],
   "source": [
    "#.dtypes nos permite saber el tipo de datos que contienen las columnas de Netflix.\n",
    "\n",
    "fifa.dtypes"
   ]
  },
  {
   "cell_type": "code",
   "execution_count": 5,
   "id": "1a8f2554",
   "metadata": {},
   "outputs": [
    {
     "name": "stdout",
     "output_type": "stream",
     "text": [
      "<class 'pandas.core.frame.DataFrame'>\n",
      "RangeIndex: 19239 entries, 0 to 19238\n",
      "Columns: 110 entries, sofifa_id to nation_flag_url\n",
      "dtypes: float64(18), int64(44), object(48)\n",
      "memory usage: 16.1+ MB\n"
     ]
    }
   ],
   "source": [
    "fifa.info()"
   ]
  },
  {
   "cell_type": "code",
   "execution_count": 6,
   "id": "1659b09b",
   "metadata": {},
   "outputs": [
    {
     "name": "stdout",
     "output_type": "stream",
     "text": [
      "                                              player_url          short_name  \\\n",
      "0      https://sofifa.com/player/158023/lionel-messi/...            L. Messi   \n",
      "1      https://sofifa.com/player/188545/robert-lewand...      R. Lewandowski   \n",
      "2      https://sofifa.com/player/20801/c-ronaldo-dos-...   Cristiano Ronaldo   \n",
      "3      https://sofifa.com/player/190871/neymar-da-sil...           Neymar Jr   \n",
      "4      https://sofifa.com/player/192985/kevin-de-bruy...        K. De Bruyne   \n",
      "...                                                  ...                 ...   \n",
      "19234  https://sofifa.com/player/261962/defu-song/220002           Song Defu   \n",
      "19235  https://sofifa.com/player/262040/caoimhin-port...           C. Porter   \n",
      "19236  https://sofifa.com/player/262760/nathan-logue/...            N. Logue   \n",
      "19237  https://sofifa.com/player/262820/luke-rudden/2...           L. Rudden   \n",
      "19238  https://sofifa.com/player/264540/emanuel-lalch...  E. Lalchhanchhuaha   \n",
      "\n",
      "                                 long_name player_positions         dob  \\\n",
      "0           Lionel Andrés Messi Cuccittini       RW, ST, CF  1987-06-24   \n",
      "1                       Robert Lewandowski               ST  1988-08-21   \n",
      "2      Cristiano Ronaldo dos Santos Aveiro           ST, LW  1985-02-05   \n",
      "3            Neymar da Silva Santos Júnior          LW, CAM  1992-02-05   \n",
      "4                          Kevin De Bruyne          CM, CAM  1991-06-28   \n",
      "...                                    ...              ...         ...   \n",
      "19234                                  ???              CDM  1999-01-02   \n",
      "19235                      Caoimhin Porter               CM  2002-03-18   \n",
      "19236              Nathan Logue-Cunningham               CM  2000-02-07   \n",
      "19237                          Luke Rudden               ST  2002-04-23   \n",
      "19238              Emanuel Lalchhanchhuaha              CAM  2002-02-06   \n",
      "\n",
      "                 club_name                     league_name club_position  \\\n",
      "0      Paris Saint-Germain                  French Ligue 1            RW   \n",
      "1        FC Bayern München            German 1. Bundesliga            ST   \n",
      "2        Manchester United          English Premier League            ST   \n",
      "3      Paris Saint-Germain                  French Ligue 1            LW   \n",
      "4          Manchester City          English Premier League           RCM   \n",
      "...                    ...                             ...           ...   \n",
      "19234             Wuhan FC            Chinese Super League           SUB   \n",
      "19235           Derry City  Rep. Ireland Airtricity League           RES   \n",
      "19236           Finn Harps  Rep. Ireland Airtricity League           RES   \n",
      "19237           Finn Harps  Rep. Ireland Airtricity League           RES   \n",
      "19238  NorthEast United FC             Indian Super League           SUB   \n",
      "\n",
      "      club_loaned_from club_joined  ...   lcb    cb   rcb    rb    gk  \\\n",
      "0                  NaN  2021-08-10  ...  50+3  50+3  50+3  61+3  19+3   \n",
      "1                  NaN  2014-07-01  ...  60+3  60+3  60+3  61+3  19+3   \n",
      "2                  NaN  2021-08-27  ...  53+3  53+3  53+3  60+3  20+3   \n",
      "3                  NaN  2017-08-03  ...  50+3  50+3  50+3  62+3  20+3   \n",
      "4                  NaN  2015-08-30  ...  69+3  69+3  69+3  75+3  21+3   \n",
      "...                ...         ...  ...   ...   ...   ...   ...   ...   \n",
      "19234              NaN  2021-04-01  ...  46+2  46+2  46+2  48+2  15+2   \n",
      "19235              NaN  2021-02-22  ...  44+2  44+2  44+2  48+2  14+2   \n",
      "19236              NaN  2021-06-18  ...  45+2  45+2  45+2  47+2  12+2   \n",
      "19237              NaN  2021-06-18  ...  26+2  26+2  26+2  32+2  15+2   \n",
      "19238              NaN  2021-08-31  ...  41+2  41+2  41+2  45+2  16+2   \n",
      "\n",
      "                                         player_face_url  \\\n",
      "0      https://cdn.sofifa.net/players/158/023/22_120.png   \n",
      "1      https://cdn.sofifa.net/players/188/545/22_120.png   \n",
      "2      https://cdn.sofifa.net/players/020/801/22_120.png   \n",
      "3      https://cdn.sofifa.net/players/190/871/22_120.png   \n",
      "4      https://cdn.sofifa.net/players/192/985/22_120.png   \n",
      "...                                                  ...   \n",
      "19234  https://cdn.sofifa.net/players/261/962/22_120.png   \n",
      "19235  https://cdn.sofifa.net/players/262/040/22_120.png   \n",
      "19236  https://cdn.sofifa.net/players/262/760/22_120.png   \n",
      "19237  https://cdn.sofifa.net/players/262/820/22_120.png   \n",
      "19238  https://cdn.sofifa.net/players/264/540/22_120.png   \n",
      "\n",
      "                                    club_logo_url  \\\n",
      "0          https://cdn.sofifa.net/teams/73/60.png   \n",
      "1          https://cdn.sofifa.net/teams/21/60.png   \n",
      "2          https://cdn.sofifa.net/teams/11/60.png   \n",
      "3          https://cdn.sofifa.net/teams/73/60.png   \n",
      "4          https://cdn.sofifa.net/teams/10/60.png   \n",
      "...                                           ...   \n",
      "19234  https://cdn.sofifa.net/teams/112541/60.png   \n",
      "19235     https://cdn.sofifa.net/teams/445/60.png   \n",
      "19236  https://cdn.sofifa.net/teams/111131/60.png   \n",
      "19237  https://cdn.sofifa.net/teams/111131/60.png   \n",
      "19238  https://cdn.sofifa.net/teams/113040/60.png   \n",
      "\n",
      "                                 club_flag_url  \\\n",
      "0          https://cdn.sofifa.net/flags/fr.png   \n",
      "1          https://cdn.sofifa.net/flags/de.png   \n",
      "2      https://cdn.sofifa.net/flags/gb-eng.png   \n",
      "3          https://cdn.sofifa.net/flags/fr.png   \n",
      "4      https://cdn.sofifa.net/flags/gb-eng.png   \n",
      "...                                        ...   \n",
      "19234      https://cdn.sofifa.net/flags/cn.png   \n",
      "19235      https://cdn.sofifa.net/flags/ie.png   \n",
      "19236      https://cdn.sofifa.net/flags/ie.png   \n",
      "19237      https://cdn.sofifa.net/flags/ie.png   \n",
      "19238      https://cdn.sofifa.net/flags/in.png   \n",
      "\n",
      "                                nation_logo_url  \\\n",
      "0      https://cdn.sofifa.net/teams/1369/60.png   \n",
      "1      https://cdn.sofifa.net/teams/1353/60.png   \n",
      "2      https://cdn.sofifa.net/teams/1354/60.png   \n",
      "3                                           NaN   \n",
      "4      https://cdn.sofifa.net/teams/1325/60.png   \n",
      "...                                         ...   \n",
      "19234                                       NaN   \n",
      "19235                                       NaN   \n",
      "19236                                       NaN   \n",
      "19237                                       NaN   \n",
      "19238                                       NaN   \n",
      "\n",
      "                           nation_flag_url  \n",
      "0      https://cdn.sofifa.net/flags/ar.png  \n",
      "1      https://cdn.sofifa.net/flags/pl.png  \n",
      "2      https://cdn.sofifa.net/flags/pt.png  \n",
      "3      https://cdn.sofifa.net/flags/br.png  \n",
      "4      https://cdn.sofifa.net/flags/be.png  \n",
      "...                                    ...  \n",
      "19234  https://cdn.sofifa.net/flags/cn.png  \n",
      "19235  https://cdn.sofifa.net/flags/ie.png  \n",
      "19236  https://cdn.sofifa.net/flags/ie.png  \n",
      "19237  https://cdn.sofifa.net/flags/ie.png  \n",
      "19238  https://cdn.sofifa.net/flags/in.png  \n",
      "\n",
      "[19239 rows x 48 columns]\n"
     ]
    }
   ],
   "source": [
    "#Columnas con tipo de datos 'object'\n",
    "columns_objects = fifa.select_dtypes(include=['object'])\n",
    "\n",
    "print(columns_objects)"
   ]
  },
  {
   "cell_type": "code",
   "execution_count": 7,
   "id": "951d05ba",
   "metadata": {},
   "outputs": [
    {
     "data": {
      "text/plain": [
       "sofifa_id            int64\n",
       "player_url          object\n",
       "short_name          string\n",
       "long_name           string\n",
       "player_positions    string\n",
       "                     ...  \n",
       "player_face_url     object\n",
       "club_logo_url       object\n",
       "club_flag_url       object\n",
       "nation_logo_url     object\n",
       "nation_flag_url     object\n",
       "Length: 110, dtype: object"
      ]
     },
     "execution_count": 7,
     "metadata": {},
     "output_type": "execute_result"
    }
   ],
   "source": [
    "#Tranformamos los tipos de datos object por strings. \n",
    "\n",
    "fifa['short_name'] = fifa['short_name'].astype(\"string\")\n",
    "fifa['long_name'] = fifa['long_name'].astype(\"string\")\n",
    "fifa['player_positions'] = fifa['player_positions'].astype(\"string\")\n",
    "fifa['club_name'] = fifa['club_name'].astype(\"string\")\n",
    "fifa['league_name'] = fifa['league_name'].astype(\"string\")\n",
    "fifa['club_position'] = fifa['club_position'].astype(\"string\")\n",
    "fifa['nationality_name'] = fifa['nationality_name'].astype(\"string\")\n",
    "fifa['nation_position'] = fifa['nation_position'].astype(\"string\")\n",
    "fifa['preferred_foot'] = fifa['preferred_foot'].astype(\"string\")\n",
    "fifa['work_rate'] = fifa['work_rate'].astype(\"string\")\n",
    "fifa['ldm'] = fifa['ldm'].astype(\"string\")\n",
    "fifa['cdm'] = fifa['cdm'].astype(\"string\")\n",
    "fifa['rdm'] = fifa['rdm'].astype(\"string\")\n",
    "fifa['rwb'] = fifa['rwb'].astype(\"string\")\n",
    "fifa['lb'] = fifa['lb'].astype(\"string\")\n",
    "fifa['lcb'] = fifa['lcb'].astype(\"string\")\n",
    "fifa['cb'] = fifa['cb'].astype(\"string\")\n",
    "fifa['rcb'] = fifa['rcb'].astype(\"string\")\n",
    "fifa['rb'] = fifa['rb'].astype(\"string\")\n",
    "fifa['gk'] = fifa['gk'].astype(\"string\")\n",
    "fifa['player_tags'] = fifa['player_tags'].astype(\"string\")\n",
    "fifa['player_traits'] = fifa['player_traits'].astype(\"string\")\n",
    "\n",
    "\n",
    "fifa.dtypes"
   ]
  },
  {
   "cell_type": "code",
   "execution_count": 8,
   "id": "016e1154",
   "metadata": {},
   "outputs": [
    {
     "name": "stdout",
     "output_type": "stream",
     "text": [
      "                                              player_url         dob  \\\n",
      "0      https://sofifa.com/player/158023/lionel-messi/...  1987-06-24   \n",
      "1      https://sofifa.com/player/188545/robert-lewand...  1988-08-21   \n",
      "2      https://sofifa.com/player/20801/c-ronaldo-dos-...  1985-02-05   \n",
      "3      https://sofifa.com/player/190871/neymar-da-sil...  1992-02-05   \n",
      "4      https://sofifa.com/player/192985/kevin-de-bruy...  1991-06-28   \n",
      "...                                                  ...         ...   \n",
      "19234  https://sofifa.com/player/261962/defu-song/220002  1999-01-02   \n",
      "19235  https://sofifa.com/player/262040/caoimhin-port...  2002-03-18   \n",
      "19236  https://sofifa.com/player/262760/nathan-logue/...  2000-02-07   \n",
      "19237  https://sofifa.com/player/262820/luke-rudden/2...  2002-04-23   \n",
      "19238  https://sofifa.com/player/264540/emanuel-lalch...  2002-02-06   \n",
      "\n",
      "      club_loaned_from club_joined       body_type real_face    ls    st  \\\n",
      "0                  NaN  2021-08-10          Unique       Yes  89+3  89+3   \n",
      "1                  NaN  2014-07-01          Unique       Yes  90+2  90+2   \n",
      "2                  NaN  2021-08-27          Unique       Yes  90+1  90+1   \n",
      "3                  NaN  2017-08-03          Unique       Yes  83+3  83+3   \n",
      "4                  NaN  2015-08-30          Unique       Yes  83+3  83+3   \n",
      "...                ...         ...             ...       ...   ...   ...   \n",
      "19234              NaN  2021-04-01  Lean (170-185)        No  44+2  44+2   \n",
      "19235              NaN  2021-02-22  Lean (170-185)        No  45+2  45+2   \n",
      "19236              NaN  2021-06-18  Lean (170-185)        No  45+2  45+2   \n",
      "19237              NaN  2021-06-18  Lean (170-185)        No  47+2  47+2   \n",
      "19238              NaN  2021-08-31     Lean (170-)        No  45+2  45+2   \n",
      "\n",
      "         rs  lf  ...   lcm    cm   rcm    rm   lwb  \\\n",
      "0      89+3  93  ...  87+3  87+3  87+3  91+2  66+3   \n",
      "1      90+2  88  ...  80+3  80+3  80+3  84+3  64+3   \n",
      "2      90+1  89  ...  78+3  78+3  78+3  86+3  63+3   \n",
      "3      83+3  88  ...  82+3  82+3  82+3  89+2  67+3   \n",
      "4      83+3  87  ...  89+2  89+2  89+2  89+2  79+3   \n",
      "...     ...  ..  ...   ...   ...   ...   ...   ...   \n",
      "19234  44+2  45  ...  46+2  46+2  46+2  47+2  48+2   \n",
      "19235  45+2  46  ...  47+2  47+2  47+2  49+2  49+2   \n",
      "19236  45+2  46  ...  47+2  47+2  47+2  48+2  47+2   \n",
      "19237  47+2  47  ...  39+2  39+2  39+2  45+2  33+2   \n",
      "19238  45+2  47  ...  46+2  46+2  46+2  48+2  45+2   \n",
      "\n",
      "                                         player_face_url  \\\n",
      "0      https://cdn.sofifa.net/players/158/023/22_120.png   \n",
      "1      https://cdn.sofifa.net/players/188/545/22_120.png   \n",
      "2      https://cdn.sofifa.net/players/020/801/22_120.png   \n",
      "3      https://cdn.sofifa.net/players/190/871/22_120.png   \n",
      "4      https://cdn.sofifa.net/players/192/985/22_120.png   \n",
      "...                                                  ...   \n",
      "19234  https://cdn.sofifa.net/players/261/962/22_120.png   \n",
      "19235  https://cdn.sofifa.net/players/262/040/22_120.png   \n",
      "19236  https://cdn.sofifa.net/players/262/760/22_120.png   \n",
      "19237  https://cdn.sofifa.net/players/262/820/22_120.png   \n",
      "19238  https://cdn.sofifa.net/players/264/540/22_120.png   \n",
      "\n",
      "                                    club_logo_url  \\\n",
      "0          https://cdn.sofifa.net/teams/73/60.png   \n",
      "1          https://cdn.sofifa.net/teams/21/60.png   \n",
      "2          https://cdn.sofifa.net/teams/11/60.png   \n",
      "3          https://cdn.sofifa.net/teams/73/60.png   \n",
      "4          https://cdn.sofifa.net/teams/10/60.png   \n",
      "...                                           ...   \n",
      "19234  https://cdn.sofifa.net/teams/112541/60.png   \n",
      "19235     https://cdn.sofifa.net/teams/445/60.png   \n",
      "19236  https://cdn.sofifa.net/teams/111131/60.png   \n",
      "19237  https://cdn.sofifa.net/teams/111131/60.png   \n",
      "19238  https://cdn.sofifa.net/teams/113040/60.png   \n",
      "\n",
      "                                 club_flag_url  \\\n",
      "0          https://cdn.sofifa.net/flags/fr.png   \n",
      "1          https://cdn.sofifa.net/flags/de.png   \n",
      "2      https://cdn.sofifa.net/flags/gb-eng.png   \n",
      "3          https://cdn.sofifa.net/flags/fr.png   \n",
      "4      https://cdn.sofifa.net/flags/gb-eng.png   \n",
      "...                                        ...   \n",
      "19234      https://cdn.sofifa.net/flags/cn.png   \n",
      "19235      https://cdn.sofifa.net/flags/ie.png   \n",
      "19236      https://cdn.sofifa.net/flags/ie.png   \n",
      "19237      https://cdn.sofifa.net/flags/ie.png   \n",
      "19238      https://cdn.sofifa.net/flags/in.png   \n",
      "\n",
      "                                nation_logo_url  \\\n",
      "0      https://cdn.sofifa.net/teams/1369/60.png   \n",
      "1      https://cdn.sofifa.net/teams/1353/60.png   \n",
      "2      https://cdn.sofifa.net/teams/1354/60.png   \n",
      "3                                           NaN   \n",
      "4      https://cdn.sofifa.net/teams/1325/60.png   \n",
      "...                                         ...   \n",
      "19234                                       NaN   \n",
      "19235                                       NaN   \n",
      "19236                                       NaN   \n",
      "19237                                       NaN   \n",
      "19238                                       NaN   \n",
      "\n",
      "                           nation_flag_url  \n",
      "0      https://cdn.sofifa.net/flags/ar.png  \n",
      "1      https://cdn.sofifa.net/flags/pl.png  \n",
      "2      https://cdn.sofifa.net/flags/pt.png  \n",
      "3      https://cdn.sofifa.net/flags/br.png  \n",
      "4      https://cdn.sofifa.net/flags/be.png  \n",
      "...                                    ...  \n",
      "19234  https://cdn.sofifa.net/flags/cn.png  \n",
      "19235  https://cdn.sofifa.net/flags/ie.png  \n",
      "19236  https://cdn.sofifa.net/flags/ie.png  \n",
      "19237  https://cdn.sofifa.net/flags/ie.png  \n",
      "19238  https://cdn.sofifa.net/flags/in.png  \n",
      "\n",
      "[19239 rows x 26 columns]\n"
     ]
    }
   ],
   "source": [
    "#Columnas con tipo de datos 'object'\n",
    "columns_objects = fifa.select_dtypes(include=['object'])\n",
    "\n",
    "print(columns_objects)"
   ]
  },
  {
   "cell_type": "code",
   "execution_count": 9,
   "id": "19116ed5",
   "metadata": {},
   "outputs": [
    {
     "data": {
      "text/html": [
       "<div>\n",
       "<style scoped>\n",
       "    .dataframe tbody tr th:only-of-type {\n",
       "        vertical-align: middle;\n",
       "    }\n",
       "\n",
       "    .dataframe tbody tr th {\n",
       "        vertical-align: top;\n",
       "    }\n",
       "\n",
       "    .dataframe thead th {\n",
       "        text-align: right;\n",
       "    }\n",
       "</style>\n",
       "<table border=\"1\" class=\"dataframe\">\n",
       "  <thead>\n",
       "    <tr style=\"text-align: right;\">\n",
       "      <th></th>\n",
       "      <th>sofifa_id</th>\n",
       "      <th>player_url</th>\n",
       "      <th>short_name</th>\n",
       "      <th>long_name</th>\n",
       "      <th>player_positions</th>\n",
       "      <th>overall</th>\n",
       "      <th>potential</th>\n",
       "      <th>value_eur</th>\n",
       "      <th>wage_eur</th>\n",
       "      <th>age</th>\n",
       "      <th>...</th>\n",
       "      <th>lcb</th>\n",
       "      <th>cb</th>\n",
       "      <th>rcb</th>\n",
       "      <th>rb</th>\n",
       "      <th>gk</th>\n",
       "      <th>player_face_url</th>\n",
       "      <th>club_logo_url</th>\n",
       "      <th>club_flag_url</th>\n",
       "      <th>nation_logo_url</th>\n",
       "      <th>nation_flag_url</th>\n",
       "    </tr>\n",
       "  </thead>\n",
       "  <tbody>\n",
       "    <tr>\n",
       "      <th>0</th>\n",
       "      <td>158023</td>\n",
       "      <td>https://sofifa.com/player/158023/lionel-messi/...</td>\n",
       "      <td>L. Messi</td>\n",
       "      <td>Lionel Andrés Messi Cuccittini</td>\n",
       "      <td>RW, ST, CF</td>\n",
       "      <td>93</td>\n",
       "      <td>93</td>\n",
       "      <td>78000000.0</td>\n",
       "      <td>320000.0</td>\n",
       "      <td>34</td>\n",
       "      <td>...</td>\n",
       "      <td>50+3</td>\n",
       "      <td>50+3</td>\n",
       "      <td>50+3</td>\n",
       "      <td>61+3</td>\n",
       "      <td>19+3</td>\n",
       "      <td>https://cdn.sofifa.net/players/158/023/22_120.png</td>\n",
       "      <td>https://cdn.sofifa.net/teams/73/60.png</td>\n",
       "      <td>https://cdn.sofifa.net/flags/fr.png</td>\n",
       "      <td>https://cdn.sofifa.net/teams/1369/60.png</td>\n",
       "      <td>https://cdn.sofifa.net/flags/ar.png</td>\n",
       "    </tr>\n",
       "    <tr>\n",
       "      <th>1</th>\n",
       "      <td>188545</td>\n",
       "      <td>https://sofifa.com/player/188545/robert-lewand...</td>\n",
       "      <td>R. Lewandowski</td>\n",
       "      <td>Robert Lewandowski</td>\n",
       "      <td>ST</td>\n",
       "      <td>92</td>\n",
       "      <td>92</td>\n",
       "      <td>119500000.0</td>\n",
       "      <td>270000.0</td>\n",
       "      <td>32</td>\n",
       "      <td>...</td>\n",
       "      <td>60+3</td>\n",
       "      <td>60+3</td>\n",
       "      <td>60+3</td>\n",
       "      <td>61+3</td>\n",
       "      <td>19+3</td>\n",
       "      <td>https://cdn.sofifa.net/players/188/545/22_120.png</td>\n",
       "      <td>https://cdn.sofifa.net/teams/21/60.png</td>\n",
       "      <td>https://cdn.sofifa.net/flags/de.png</td>\n",
       "      <td>https://cdn.sofifa.net/teams/1353/60.png</td>\n",
       "      <td>https://cdn.sofifa.net/flags/pl.png</td>\n",
       "    </tr>\n",
       "    <tr>\n",
       "      <th>2</th>\n",
       "      <td>20801</td>\n",
       "      <td>https://sofifa.com/player/20801/c-ronaldo-dos-...</td>\n",
       "      <td>Cristiano Ronaldo</td>\n",
       "      <td>Cristiano Ronaldo dos Santos Aveiro</td>\n",
       "      <td>ST, LW</td>\n",
       "      <td>91</td>\n",
       "      <td>91</td>\n",
       "      <td>45000000.0</td>\n",
       "      <td>270000.0</td>\n",
       "      <td>36</td>\n",
       "      <td>...</td>\n",
       "      <td>53+3</td>\n",
       "      <td>53+3</td>\n",
       "      <td>53+3</td>\n",
       "      <td>60+3</td>\n",
       "      <td>20+3</td>\n",
       "      <td>https://cdn.sofifa.net/players/020/801/22_120.png</td>\n",
       "      <td>https://cdn.sofifa.net/teams/11/60.png</td>\n",
       "      <td>https://cdn.sofifa.net/flags/gb-eng.png</td>\n",
       "      <td>https://cdn.sofifa.net/teams/1354/60.png</td>\n",
       "      <td>https://cdn.sofifa.net/flags/pt.png</td>\n",
       "    </tr>\n",
       "    <tr>\n",
       "      <th>3</th>\n",
       "      <td>190871</td>\n",
       "      <td>https://sofifa.com/player/190871/neymar-da-sil...</td>\n",
       "      <td>Neymar Jr</td>\n",
       "      <td>Neymar da Silva Santos Júnior</td>\n",
       "      <td>LW, CAM</td>\n",
       "      <td>91</td>\n",
       "      <td>91</td>\n",
       "      <td>129000000.0</td>\n",
       "      <td>270000.0</td>\n",
       "      <td>29</td>\n",
       "      <td>...</td>\n",
       "      <td>50+3</td>\n",
       "      <td>50+3</td>\n",
       "      <td>50+3</td>\n",
       "      <td>62+3</td>\n",
       "      <td>20+3</td>\n",
       "      <td>https://cdn.sofifa.net/players/190/871/22_120.png</td>\n",
       "      <td>https://cdn.sofifa.net/teams/73/60.png</td>\n",
       "      <td>https://cdn.sofifa.net/flags/fr.png</td>\n",
       "      <td>NaN</td>\n",
       "      <td>https://cdn.sofifa.net/flags/br.png</td>\n",
       "    </tr>\n",
       "    <tr>\n",
       "      <th>4</th>\n",
       "      <td>192985</td>\n",
       "      <td>https://sofifa.com/player/192985/kevin-de-bruy...</td>\n",
       "      <td>K. De Bruyne</td>\n",
       "      <td>Kevin De Bruyne</td>\n",
       "      <td>CM, CAM</td>\n",
       "      <td>91</td>\n",
       "      <td>91</td>\n",
       "      <td>125500000.0</td>\n",
       "      <td>350000.0</td>\n",
       "      <td>30</td>\n",
       "      <td>...</td>\n",
       "      <td>69+3</td>\n",
       "      <td>69+3</td>\n",
       "      <td>69+3</td>\n",
       "      <td>75+3</td>\n",
       "      <td>21+3</td>\n",
       "      <td>https://cdn.sofifa.net/players/192/985/22_120.png</td>\n",
       "      <td>https://cdn.sofifa.net/teams/10/60.png</td>\n",
       "      <td>https://cdn.sofifa.net/flags/gb-eng.png</td>\n",
       "      <td>https://cdn.sofifa.net/teams/1325/60.png</td>\n",
       "      <td>https://cdn.sofifa.net/flags/be.png</td>\n",
       "    </tr>\n",
       "  </tbody>\n",
       "</table>\n",
       "<p>5 rows × 110 columns</p>\n",
       "</div>"
      ],
      "text/plain": [
       "   sofifa_id                                         player_url  \\\n",
       "0     158023  https://sofifa.com/player/158023/lionel-messi/...   \n",
       "1     188545  https://sofifa.com/player/188545/robert-lewand...   \n",
       "2      20801  https://sofifa.com/player/20801/c-ronaldo-dos-...   \n",
       "3     190871  https://sofifa.com/player/190871/neymar-da-sil...   \n",
       "4     192985  https://sofifa.com/player/192985/kevin-de-bruy...   \n",
       "\n",
       "          short_name                            long_name player_positions  \\\n",
       "0           L. Messi       Lionel Andrés Messi Cuccittini       RW, ST, CF   \n",
       "1     R. Lewandowski                   Robert Lewandowski               ST   \n",
       "2  Cristiano Ronaldo  Cristiano Ronaldo dos Santos Aveiro           ST, LW   \n",
       "3          Neymar Jr        Neymar da Silva Santos Júnior          LW, CAM   \n",
       "4       K. De Bruyne                      Kevin De Bruyne          CM, CAM   \n",
       "\n",
       "   overall  potential    value_eur  wage_eur  age  ...   lcb    cb   rcb  \\\n",
       "0       93         93   78000000.0  320000.0   34  ...  50+3  50+3  50+3   \n",
       "1       92         92  119500000.0  270000.0   32  ...  60+3  60+3  60+3   \n",
       "2       91         91   45000000.0  270000.0   36  ...  53+3  53+3  53+3   \n",
       "3       91         91  129000000.0  270000.0   29  ...  50+3  50+3  50+3   \n",
       "4       91         91  125500000.0  350000.0   30  ...  69+3  69+3  69+3   \n",
       "\n",
       "     rb    gk                                    player_face_url  \\\n",
       "0  61+3  19+3  https://cdn.sofifa.net/players/158/023/22_120.png   \n",
       "1  61+3  19+3  https://cdn.sofifa.net/players/188/545/22_120.png   \n",
       "2  60+3  20+3  https://cdn.sofifa.net/players/020/801/22_120.png   \n",
       "3  62+3  20+3  https://cdn.sofifa.net/players/190/871/22_120.png   \n",
       "4  75+3  21+3  https://cdn.sofifa.net/players/192/985/22_120.png   \n",
       "\n",
       "                            club_logo_url  \\\n",
       "0  https://cdn.sofifa.net/teams/73/60.png   \n",
       "1  https://cdn.sofifa.net/teams/21/60.png   \n",
       "2  https://cdn.sofifa.net/teams/11/60.png   \n",
       "3  https://cdn.sofifa.net/teams/73/60.png   \n",
       "4  https://cdn.sofifa.net/teams/10/60.png   \n",
       "\n",
       "                             club_flag_url  \\\n",
       "0      https://cdn.sofifa.net/flags/fr.png   \n",
       "1      https://cdn.sofifa.net/flags/de.png   \n",
       "2  https://cdn.sofifa.net/flags/gb-eng.png   \n",
       "3      https://cdn.sofifa.net/flags/fr.png   \n",
       "4  https://cdn.sofifa.net/flags/gb-eng.png   \n",
       "\n",
       "                            nation_logo_url  \\\n",
       "0  https://cdn.sofifa.net/teams/1369/60.png   \n",
       "1  https://cdn.sofifa.net/teams/1353/60.png   \n",
       "2  https://cdn.sofifa.net/teams/1354/60.png   \n",
       "3                                       NaN   \n",
       "4  https://cdn.sofifa.net/teams/1325/60.png   \n",
       "\n",
       "                       nation_flag_url  \n",
       "0  https://cdn.sofifa.net/flags/ar.png  \n",
       "1  https://cdn.sofifa.net/flags/pl.png  \n",
       "2  https://cdn.sofifa.net/flags/pt.png  \n",
       "3  https://cdn.sofifa.net/flags/br.png  \n",
       "4  https://cdn.sofifa.net/flags/be.png  \n",
       "\n",
       "[5 rows x 110 columns]"
      ]
     },
     "execution_count": 9,
     "metadata": {},
     "output_type": "execute_result"
    }
   ],
   "source": [
    "fifa.head(5)"
   ]
  },
  {
   "cell_type": "code",
   "execution_count": 10,
   "id": "f50ca9cf",
   "metadata": {},
   "outputs": [
    {
     "data": {
      "text/html": [
       "<div>\n",
       "<style scoped>\n",
       "    .dataframe tbody tr th:only-of-type {\n",
       "        vertical-align: middle;\n",
       "    }\n",
       "\n",
       "    .dataframe tbody tr th {\n",
       "        vertical-align: top;\n",
       "    }\n",
       "\n",
       "    .dataframe thead th {\n",
       "        text-align: right;\n",
       "    }\n",
       "</style>\n",
       "<table border=\"1\" class=\"dataframe\">\n",
       "  <thead>\n",
       "    <tr style=\"text-align: right;\">\n",
       "      <th></th>\n",
       "      <th>sofifa_id</th>\n",
       "      <th>player_url</th>\n",
       "      <th>short_name</th>\n",
       "      <th>long_name</th>\n",
       "      <th>player_positions</th>\n",
       "      <th>overall</th>\n",
       "      <th>potential</th>\n",
       "      <th>value_eur</th>\n",
       "      <th>wage_eur</th>\n",
       "      <th>age</th>\n",
       "      <th>...</th>\n",
       "      <th>lcb</th>\n",
       "      <th>cb</th>\n",
       "      <th>rcb</th>\n",
       "      <th>rb</th>\n",
       "      <th>gk</th>\n",
       "      <th>player_face_url</th>\n",
       "      <th>club_logo_url</th>\n",
       "      <th>club_flag_url</th>\n",
       "      <th>nation_logo_url</th>\n",
       "      <th>nation_flag_url</th>\n",
       "    </tr>\n",
       "  </thead>\n",
       "  <tbody>\n",
       "    <tr>\n",
       "      <th>19234</th>\n",
       "      <td>261962</td>\n",
       "      <td>https://sofifa.com/player/261962/defu-song/220002</td>\n",
       "      <td>Song Defu</td>\n",
       "      <td>???</td>\n",
       "      <td>CDM</td>\n",
       "      <td>47</td>\n",
       "      <td>52</td>\n",
       "      <td>70000.0</td>\n",
       "      <td>1000.0</td>\n",
       "      <td>22</td>\n",
       "      <td>...</td>\n",
       "      <td>46+2</td>\n",
       "      <td>46+2</td>\n",
       "      <td>46+2</td>\n",
       "      <td>48+2</td>\n",
       "      <td>15+2</td>\n",
       "      <td>https://cdn.sofifa.net/players/261/962/22_120.png</td>\n",
       "      <td>https://cdn.sofifa.net/teams/112541/60.png</td>\n",
       "      <td>https://cdn.sofifa.net/flags/cn.png</td>\n",
       "      <td>NaN</td>\n",
       "      <td>https://cdn.sofifa.net/flags/cn.png</td>\n",
       "    </tr>\n",
       "    <tr>\n",
       "      <th>19235</th>\n",
       "      <td>262040</td>\n",
       "      <td>https://sofifa.com/player/262040/caoimhin-port...</td>\n",
       "      <td>C. Porter</td>\n",
       "      <td>Caoimhin Porter</td>\n",
       "      <td>CM</td>\n",
       "      <td>47</td>\n",
       "      <td>59</td>\n",
       "      <td>110000.0</td>\n",
       "      <td>500.0</td>\n",
       "      <td>19</td>\n",
       "      <td>...</td>\n",
       "      <td>44+2</td>\n",
       "      <td>44+2</td>\n",
       "      <td>44+2</td>\n",
       "      <td>48+2</td>\n",
       "      <td>14+2</td>\n",
       "      <td>https://cdn.sofifa.net/players/262/040/22_120.png</td>\n",
       "      <td>https://cdn.sofifa.net/teams/445/60.png</td>\n",
       "      <td>https://cdn.sofifa.net/flags/ie.png</td>\n",
       "      <td>NaN</td>\n",
       "      <td>https://cdn.sofifa.net/flags/ie.png</td>\n",
       "    </tr>\n",
       "    <tr>\n",
       "      <th>19236</th>\n",
       "      <td>262760</td>\n",
       "      <td>https://sofifa.com/player/262760/nathan-logue/...</td>\n",
       "      <td>N. Logue</td>\n",
       "      <td>Nathan Logue-Cunningham</td>\n",
       "      <td>CM</td>\n",
       "      <td>47</td>\n",
       "      <td>55</td>\n",
       "      <td>100000.0</td>\n",
       "      <td>500.0</td>\n",
       "      <td>21</td>\n",
       "      <td>...</td>\n",
       "      <td>45+2</td>\n",
       "      <td>45+2</td>\n",
       "      <td>45+2</td>\n",
       "      <td>47+2</td>\n",
       "      <td>12+2</td>\n",
       "      <td>https://cdn.sofifa.net/players/262/760/22_120.png</td>\n",
       "      <td>https://cdn.sofifa.net/teams/111131/60.png</td>\n",
       "      <td>https://cdn.sofifa.net/flags/ie.png</td>\n",
       "      <td>NaN</td>\n",
       "      <td>https://cdn.sofifa.net/flags/ie.png</td>\n",
       "    </tr>\n",
       "    <tr>\n",
       "      <th>19237</th>\n",
       "      <td>262820</td>\n",
       "      <td>https://sofifa.com/player/262820/luke-rudden/2...</td>\n",
       "      <td>L. Rudden</td>\n",
       "      <td>Luke Rudden</td>\n",
       "      <td>ST</td>\n",
       "      <td>47</td>\n",
       "      <td>60</td>\n",
       "      <td>110000.0</td>\n",
       "      <td>500.0</td>\n",
       "      <td>19</td>\n",
       "      <td>...</td>\n",
       "      <td>26+2</td>\n",
       "      <td>26+2</td>\n",
       "      <td>26+2</td>\n",
       "      <td>32+2</td>\n",
       "      <td>15+2</td>\n",
       "      <td>https://cdn.sofifa.net/players/262/820/22_120.png</td>\n",
       "      <td>https://cdn.sofifa.net/teams/111131/60.png</td>\n",
       "      <td>https://cdn.sofifa.net/flags/ie.png</td>\n",
       "      <td>NaN</td>\n",
       "      <td>https://cdn.sofifa.net/flags/ie.png</td>\n",
       "    </tr>\n",
       "    <tr>\n",
       "      <th>19238</th>\n",
       "      <td>264540</td>\n",
       "      <td>https://sofifa.com/player/264540/emanuel-lalch...</td>\n",
       "      <td>E. Lalchhanchhuaha</td>\n",
       "      <td>Emanuel Lalchhanchhuaha</td>\n",
       "      <td>CAM</td>\n",
       "      <td>47</td>\n",
       "      <td>60</td>\n",
       "      <td>110000.0</td>\n",
       "      <td>500.0</td>\n",
       "      <td>19</td>\n",
       "      <td>...</td>\n",
       "      <td>41+2</td>\n",
       "      <td>41+2</td>\n",
       "      <td>41+2</td>\n",
       "      <td>45+2</td>\n",
       "      <td>16+2</td>\n",
       "      <td>https://cdn.sofifa.net/players/264/540/22_120.png</td>\n",
       "      <td>https://cdn.sofifa.net/teams/113040/60.png</td>\n",
       "      <td>https://cdn.sofifa.net/flags/in.png</td>\n",
       "      <td>NaN</td>\n",
       "      <td>https://cdn.sofifa.net/flags/in.png</td>\n",
       "    </tr>\n",
       "  </tbody>\n",
       "</table>\n",
       "<p>5 rows × 110 columns</p>\n",
       "</div>"
      ],
      "text/plain": [
       "       sofifa_id                                         player_url  \\\n",
       "19234     261962  https://sofifa.com/player/261962/defu-song/220002   \n",
       "19235     262040  https://sofifa.com/player/262040/caoimhin-port...   \n",
       "19236     262760  https://sofifa.com/player/262760/nathan-logue/...   \n",
       "19237     262820  https://sofifa.com/player/262820/luke-rudden/2...   \n",
       "19238     264540  https://sofifa.com/player/264540/emanuel-lalch...   \n",
       "\n",
       "               short_name                long_name player_positions  overall  \\\n",
       "19234           Song Defu                      ???              CDM       47   \n",
       "19235           C. Porter          Caoimhin Porter               CM       47   \n",
       "19236            N. Logue  Nathan Logue-Cunningham               CM       47   \n",
       "19237           L. Rudden              Luke Rudden               ST       47   \n",
       "19238  E. Lalchhanchhuaha  Emanuel Lalchhanchhuaha              CAM       47   \n",
       "\n",
       "       potential  value_eur  wage_eur  age  ...   lcb    cb   rcb    rb    gk  \\\n",
       "19234         52    70000.0    1000.0   22  ...  46+2  46+2  46+2  48+2  15+2   \n",
       "19235         59   110000.0     500.0   19  ...  44+2  44+2  44+2  48+2  14+2   \n",
       "19236         55   100000.0     500.0   21  ...  45+2  45+2  45+2  47+2  12+2   \n",
       "19237         60   110000.0     500.0   19  ...  26+2  26+2  26+2  32+2  15+2   \n",
       "19238         60   110000.0     500.0   19  ...  41+2  41+2  41+2  45+2  16+2   \n",
       "\n",
       "                                         player_face_url  \\\n",
       "19234  https://cdn.sofifa.net/players/261/962/22_120.png   \n",
       "19235  https://cdn.sofifa.net/players/262/040/22_120.png   \n",
       "19236  https://cdn.sofifa.net/players/262/760/22_120.png   \n",
       "19237  https://cdn.sofifa.net/players/262/820/22_120.png   \n",
       "19238  https://cdn.sofifa.net/players/264/540/22_120.png   \n",
       "\n",
       "                                    club_logo_url  \\\n",
       "19234  https://cdn.sofifa.net/teams/112541/60.png   \n",
       "19235     https://cdn.sofifa.net/teams/445/60.png   \n",
       "19236  https://cdn.sofifa.net/teams/111131/60.png   \n",
       "19237  https://cdn.sofifa.net/teams/111131/60.png   \n",
       "19238  https://cdn.sofifa.net/teams/113040/60.png   \n",
       "\n",
       "                             club_flag_url  nation_logo_url  \\\n",
       "19234  https://cdn.sofifa.net/flags/cn.png              NaN   \n",
       "19235  https://cdn.sofifa.net/flags/ie.png              NaN   \n",
       "19236  https://cdn.sofifa.net/flags/ie.png              NaN   \n",
       "19237  https://cdn.sofifa.net/flags/ie.png              NaN   \n",
       "19238  https://cdn.sofifa.net/flags/in.png              NaN   \n",
       "\n",
       "                           nation_flag_url  \n",
       "19234  https://cdn.sofifa.net/flags/cn.png  \n",
       "19235  https://cdn.sofifa.net/flags/ie.png  \n",
       "19236  https://cdn.sofifa.net/flags/ie.png  \n",
       "19237  https://cdn.sofifa.net/flags/ie.png  \n",
       "19238  https://cdn.sofifa.net/flags/in.png  \n",
       "\n",
       "[5 rows x 110 columns]"
      ]
     },
     "execution_count": 10,
     "metadata": {},
     "output_type": "execute_result"
    }
   ],
   "source": [
    "fifa.tail(5)"
   ]
  },
  {
   "cell_type": "code",
   "execution_count": 11,
   "id": "e77e0471",
   "metadata": {},
   "outputs": [
    {
     "name": "stdout",
     "output_type": "stream",
     "text": [
      "Index(['sofifa_id', 'player_url', 'short_name', 'long_name',\n",
      "       'player_positions', 'overall', 'potential', 'value_eur', 'wage_eur',\n",
      "       'age',\n",
      "       ...\n",
      "       'lcb', 'cb', 'rcb', 'rb', 'gk', 'player_face_url', 'club_logo_url',\n",
      "       'club_flag_url', 'nation_logo_url', 'nation_flag_url'],\n",
      "      dtype='object', length=110)\n",
      "110 variables\n"
     ]
    }
   ],
   "source": [
    "print(fifa.columns)\n",
    "print(len(fifa.columns), 'variables')"
   ]
  },
  {
   "cell_type": "code",
   "execution_count": 12,
   "id": "7e79e74f",
   "metadata": {
    "scrolled": true
   },
   "outputs": [
    {
     "name": "stdout",
     "output_type": "stream",
     "text": [
      "           sofifa_id       overall     potential     value_eur       wage_eur  \\\n",
      "count   19239.000000  19239.000000  19239.000000  1.916500e+04   19178.000000   \n",
      "mean   231468.086959     65.772182     71.079370  2.850452e+06    9017.989363   \n",
      "std     27039.717497      6.880232      6.086213  7.613700e+06   19470.176724   \n",
      "min        41.000000     47.000000     49.000000  9.000000e+03     500.000000   \n",
      "25%    214413.500000     61.000000     67.000000  4.750000e+05    1000.000000   \n",
      "50%    236543.000000     66.000000     71.000000  9.750000e+05    3000.000000   \n",
      "75%    253532.500000     70.000000     75.000000  2.000000e+06    8000.000000   \n",
      "max    264640.000000     93.000000     95.000000  1.940000e+08  350000.000000   \n",
      "\n",
      "                age     height_cm     weight_kg   club_team_id  league_level  \\\n",
      "count  19239.000000  19239.000000  19239.000000   19178.000000  19178.000000   \n",
      "mean      25.210822    181.299704     74.943032   50580.498123      1.354364   \n",
      "std        4.748235      6.863179      7.069434   54401.868535      0.747865   \n",
      "min       16.000000    155.000000     49.000000       1.000000      1.000000   \n",
      "25%       21.000000    176.000000     70.000000     479.000000      1.000000   \n",
      "50%       25.000000    181.000000     75.000000    1938.000000      1.000000   \n",
      "75%       29.000000    186.000000     80.000000  111139.000000      1.000000   \n",
      "max       54.000000    206.000000    110.000000  115820.000000      5.000000   \n",
      "\n",
      "       ...  defending_standing_tackle  defending_sliding_tackle  \\\n",
      "count  ...               19239.000000              19239.000000   \n",
      "mean   ...                  48.045584                 45.906700   \n",
      "std    ...                  21.232718                 20.755683   \n",
      "min    ...                   5.000000                  5.000000   \n",
      "25%    ...                  28.000000                 25.000000   \n",
      "50%    ...                  56.000000                 53.000000   \n",
      "75%    ...                  65.000000                 63.000000   \n",
      "max    ...                  93.000000                 92.000000   \n",
      "\n",
      "       goalkeeping_diving  goalkeeping_handling  goalkeeping_kicking  \\\n",
      "count        19239.000000          19239.000000         19239.000000   \n",
      "mean            16.406102             16.192474            16.055356   \n",
      "std             17.574028             16.839528            16.564554   \n",
      "min              2.000000              2.000000             2.000000   \n",
      "25%              8.000000              8.000000             8.000000   \n",
      "50%             11.000000             11.000000            11.000000   \n",
      "75%             14.000000             14.000000            14.000000   \n",
      "max             91.000000             92.000000            93.000000   \n",
      "\n",
      "       goalkeeping_positioning  goalkeeping_reflexes  goalkeeping_speed  \\\n",
      "count             19239.000000          19239.000000        2132.000000   \n",
      "mean                 16.229274             16.491814          36.439962   \n",
      "std                  17.059779             17.884833          10.751563   \n",
      "min                   2.000000              2.000000          15.000000   \n",
      "25%                   8.000000              8.000000          27.000000   \n",
      "50%                  11.000000             11.000000          36.000000   \n",
      "75%                  14.000000             14.000000          45.000000   \n",
      "max                  92.000000             90.000000          65.000000   \n",
      "\n",
      "                 lw            rw  \n",
      "count  18913.000000  18913.000000  \n",
      "mean      55.466187     55.466187  \n",
      "std       14.676659     14.676659  \n",
      "min       14.000000     14.000000  \n",
      "25%       50.000000     50.000000  \n",
      "50%       59.000000     59.000000  \n",
      "75%       65.000000     65.000000  \n",
      "max       92.000000     92.000000  \n",
      "\n",
      "[8 rows x 62 columns]\n"
     ]
    }
   ],
   "source": [
    "print(fifa.describe())"
   ]
  },
  {
   "cell_type": "code",
   "execution_count": 13,
   "id": "a5c903a5",
   "metadata": {},
   "outputs": [
    {
     "name": "stdout",
     "output_type": "stream",
     "text": [
      "0        93\n",
      "1        92\n",
      "2        91\n",
      "3        91\n",
      "4        91\n",
      "         ..\n",
      "19234    47\n",
      "19235    47\n",
      "19236    47\n",
      "19237    47\n",
      "19238    47\n",
      "Name: overall, Length: 19239, dtype: int64\n"
     ]
    }
   ],
   "source": [
    "print(fifa.overall)"
   ]
  },
  {
   "cell_type": "code",
   "execution_count": 14,
   "id": "e1419cc8",
   "metadata": {
    "scrolled": true
   },
   "outputs": [
    {
     "name": "stdout",
     "output_type": "stream",
     "text": [
      "47\n"
     ]
    },
    {
     "data": {
      "image/png": "[encoded data removed]",
      "text/plain": [
       "<Figure size 640x480 with 1 Axes>"
      ]
     },
     "metadata": {},
     "output_type": "display_data"
    }
   ],
   "source": [
    "nbins=1*(fifa.overall.max()-fifa.overall.min())+1\n",
    "fifa['overall'].hist(bins = nbins)\n",
    "print(nbins)"
   ]
  },
  {
   "cell_type": "code",
   "execution_count": 15,
   "id": "00adfbef",
   "metadata": {},
   "outputs": [
    {
     "data": {
      "text/html": [
       "<div>\n",
       "<style scoped>\n",
       "    .dataframe tbody tr th:only-of-type {\n",
       "        vertical-align: middle;\n",
       "    }\n",
       "\n",
       "    .dataframe tbody tr th {\n",
       "        vertical-align: top;\n",
       "    }\n",
       "\n",
       "    .dataframe thead th {\n",
       "        text-align: right;\n",
       "    }\n",
       "</style>\n",
       "<table border=\"1\" class=\"dataframe\">\n",
       "  <thead>\n",
       "    <tr style=\"text-align: right;\">\n",
       "      <th></th>\n",
       "      <th>player_positions</th>\n",
       "      <th>long_name</th>\n",
       "      <th>overall</th>\n",
       "    </tr>\n",
       "  </thead>\n",
       "  <tbody>\n",
       "    <tr>\n",
       "      <th>28</th>\n",
       "      <td>CAM</td>\n",
       "      <td>Bruno Miguel Borges Fernandes</td>\n",
       "      <td>88</td>\n",
       "    </tr>\n",
       "    <tr>\n",
       "      <th>2052</th>\n",
       "      <td>CAM, CDM</td>\n",
       "      <td>Pajtim Kasami</td>\n",
       "      <td>74</td>\n",
       "    </tr>\n",
       "    <tr>\n",
       "      <th>2711</th>\n",
       "      <td>CAM, CDM, CM</td>\n",
       "      <td>Andrés Ricaurte Vélez</td>\n",
       "      <td>73</td>\n",
       "    </tr>\n",
       "    <tr>\n",
       "      <th>1589</th>\n",
       "      <td>CAM, CDM, LM</td>\n",
       "      <td>Alejandro Fernández Iglesias</td>\n",
       "      <td>75</td>\n",
       "    </tr>\n",
       "    <tr>\n",
       "      <th>8515</th>\n",
       "      <td>CAM, CDM, RM</td>\n",
       "      <td>Matías Nicolás Miranda</td>\n",
       "      <td>67</td>\n",
       "    </tr>\n",
       "    <tr>\n",
       "      <th>...</th>\n",
       "      <td>...</td>\n",
       "      <td>...</td>\n",
       "      <td>...</td>\n",
       "    </tr>\n",
       "    <tr>\n",
       "      <th>105</th>\n",
       "      <td>ST, RW</td>\n",
       "      <td>Iago Aspas Juncal</td>\n",
       "      <td>84</td>\n",
       "    </tr>\n",
       "    <tr>\n",
       "      <th>536</th>\n",
       "      <td>ST, RW, CAM</td>\n",
       "      <td>???</td>\n",
       "      <td>79</td>\n",
       "    </tr>\n",
       "    <tr>\n",
       "      <th>12731</th>\n",
       "      <td>ST, RW, LM</td>\n",
       "      <td>Papis Malaly Dembélé</td>\n",
       "      <td>63</td>\n",
       "    </tr>\n",
       "    <tr>\n",
       "      <th>888</th>\n",
       "      <td>ST, RW, LW</td>\n",
       "      <td>Alan Kardec de Souza Pereira Junior</td>\n",
       "      <td>77</td>\n",
       "    </tr>\n",
       "    <tr>\n",
       "      <th>3959</th>\n",
       "      <td>ST, RW, RM</td>\n",
       "      <td>Abdul Majeed Waris</td>\n",
       "      <td>71</td>\n",
       "    </tr>\n",
       "  </tbody>\n",
       "</table>\n",
       "<p>674 rows × 3 columns</p>\n",
       "</div>"
      ],
      "text/plain": [
       "      player_positions                            long_name  overall\n",
       "28                 CAM        Bruno Miguel Borges Fernandes       88\n",
       "2052          CAM, CDM                        Pajtim Kasami       74\n",
       "2711      CAM, CDM, CM                Andrés Ricaurte Vélez       73\n",
       "1589      CAM, CDM, LM         Alejandro Fernández Iglesias       75\n",
       "8515      CAM, CDM, RM               Matías Nicolás Miranda       67\n",
       "...                ...                                  ...      ...\n",
       "105             ST, RW                    Iago Aspas Juncal       84\n",
       "536        ST, RW, CAM                                  ???       79\n",
       "12731       ST, RW, LM                 Papis Malaly Dembélé       63\n",
       "888         ST, RW, LW  Alan Kardec de Souza Pereira Junior       77\n",
       "3959        ST, RW, RM                   Abdul Majeed Waris       71\n",
       "\n",
       "[674 rows x 3 columns]"
      ]
     },
     "execution_count": 15,
     "metadata": {},
     "output_type": "execute_result"
    }
   ],
   "source": [
    "best_players_per_position=fifa.iloc[fifa.groupby(fifa['player_positions'])['overall'].idxmax()][['player_positions','long_name','overall']]\n",
    "best_players_per_position"
   ]
  },
  {
   "cell_type": "code",
   "execution_count": 16,
   "id": "62c31a7e",
   "metadata": {
    "scrolled": true
   },
   "outputs": [
    {
     "name": "stdout",
     "output_type": "stream",
     "text": [
      "34 variables numéricas de desempeño según habilidad\n"
     ]
    }
   ],
   "source": [
    "n=10000 #cantidad de jugadores a considerar\n",
    "\n",
    "fifa_n=fifa.loc[:n] #se reduce la base a los n primeros jugadores\n",
    "\n",
    "fifa_n=fifa_n[(fifa_n['overall']>70)]\n",
    "\n",
    "skills_ratings = ['Crossing', 'Finishing', 'HeadingAccuracy', 'ShortPassing',\n",
    "                  'Volleys', 'Dribbling', 'Curve', 'FKAccuracy', 'LongPassing',\n",
    "                  'BallControl', 'Acceleration', 'SprintSpeed', 'Agility', 'Reactions',\n",
    "                  'Balance', 'ShotPower', 'Jumping', 'Stamina', 'Strength', 'LongShots',\n",
    "                  'Aggression', 'Interceptions', 'Positioning', 'Vision', 'Penalties',\n",
    "                  'Composure', 'Marking', 'StandingTackle', 'SlidingTackle',\n",
    "                  'GKDiving', 'GKHandling', 'GKKicking', 'GKPositioning', 'GKReflexes']\n",
    "print(len(skills_ratings), 'variables numéricas de desempeño según habilidad')"
   ]
  },
  {
   "cell_type": "code",
   "execution_count": 17,
   "id": "0484c90e",
   "metadata": {},
   "outputs": [
    {
     "name": "stdout",
     "output_type": "stream",
     "text": [
      "Jugador con mejores habilidades: {'Name': 'MachineGun', 'overall': 99, 'Crossing': 99, 'Finishing': 99, 'HeadingAccuracy': 99, 'ShortPassing': 99, 'Volleys': 99, 'Dribbling': 99, 'Curve': 99, 'FKAccuracy': 99, 'LongPassing': 99, 'BallControl': 99, 'Acceleration': 99, 'SprintSpeed': 99, 'Agility': 99, 'Reactions': 99, 'Balance': 99, 'ShotPower': 99, 'Jumping': 99, 'Stamina': 99, 'Strength': 99, 'LongShots': 99, 'Aggression': 99, 'Interceptions': 99, 'Positioning': 99, 'Vision': 99, 'Penalties': 99, 'Composure': 99, 'Marking': 99, 'StandingTackle': 99, 'SlidingTackle': 99, 'GKDiving': 99, 'GKHandling': 99, 'GKKicking': 99, 'GKPositioning': 99, 'GKReflexes': 99}\n"
     ]
    }
   ],
   "source": [
    "MachineGunDict={'Name':'MachineGun','overall':99}\n",
    "for skills in skills_ratings:\n",
    "    MachineGunDict[skills]=99\n",
    "\n",
    "fifa_n=fifa_n.append(MachineGunDict,ignore_index=True)\n",
    "\n",
    "print(\"Jugador con mejores habilidades:\",MachineGunDict) "
   ]
  },
  {
   "cell_type": "code",
   "execution_count": 18,
   "id": "2fe22c3c",
   "metadata": {
    "scrolled": true
   },
   "outputs": [
    {
     "name": "stdout",
     "output_type": "stream",
     "text": [
      "El jugador promedio cuenta con las siguientes caracteristicas {'Name': 'JugadorPromedio', 'overall': 74.76077492381367, 'Crossing': 99.0, 'Finishing': 99.0, 'HeadingAccuracy': 99.0, 'ShortPassing': 99.0, 'Volleys': 99.0, 'Dribbling': 99.0, 'Curve': 99.0, 'FKAccuracy': 99.0, 'LongPassing': 99.0, 'BallControl': 99.0, 'Acceleration': 99.0, 'SprintSpeed': 99.0, 'Agility': 99.0, 'Reactions': 99.0, 'Balance': 99.0, 'ShotPower': 99.0, 'Jumping': 99.0, 'Stamina': 99.0, 'Strength': 99.0, 'LongShots': 99.0, 'Aggression': 99.0, 'Interceptions': 99.0, 'Positioning': 99.0, 'Vision': 99.0, 'Penalties': 99.0, 'Composure': 99.0, 'Marking': 99.0, 'StandingTackle': 99.0, 'SlidingTackle': 99.0, 'GKDiving': 99.0, 'GKHandling': 99.0, 'GKKicking': 99.0, 'GKPositioning': 99.0, 'GKReflexes': 99.0}\n"
     ]
    }
   ],
   "source": [
    "JugadorPromedioDict={'Name':'JugadorPromedio','overall':fifa_n.overall.mean()}\n",
    "for skills in skills_ratings:\n",
    "    JugadorPromedioDict[skills]=fifa_n[skills].mean()\n",
    "\n",
    "fifa_n=fifa_n.append(JugadorPromedioDict,ignore_index=True)\n",
    "\n",
    "print(\"El jugador promedio cuenta con las siguientes caracteristicas\",JugadorPromedioDict)"
   ]
  },
  {
   "cell_type": "code",
   "execution_count": 19,
   "id": "e72943d7",
   "metadata": {
    "scrolled": false
   },
   "outputs": [
    {
     "data": {
      "text/plain": [
       "Index(['sofifa_id', 'player_url', 'short_name', 'long_name',\n",
       "       'player_positions', 'overall', 'potential', 'value_eur', 'wage_eur',\n",
       "       'age',\n",
       "       ...\n",
       "       'lcb', 'cb', 'rcb', 'rb', 'gk', 'player_face_url', 'club_logo_url',\n",
       "       'club_flag_url', 'nation_logo_url', 'nation_flag_url'],\n",
       "      dtype='object', length=110)"
      ]
     },
     "execution_count": 19,
     "metadata": {},
     "output_type": "execute_result"
    }
   ],
   "source": [
    "fifa.columns"
   ]
  },
  {
   "cell_type": "code",
   "execution_count": 20,
   "id": "0730231b",
   "metadata": {},
   "outputs": [],
   "source": [
    "fifa_skills=fifa_n[skills_ratings] #base, sólo con desempeños según habilidad (numéricas)"
   ]
  },
  {
   "cell_type": "code",
   "execution_count": 21,
   "id": "a84a79b8",
   "metadata": {
    "scrolled": false
   },
   "outputs": [
    {
     "data": {
      "text/html": [
       "<div>\n",
       "<style scoped>\n",
       "    .dataframe tbody tr th:only-of-type {\n",
       "        vertical-align: middle;\n",
       "    }\n",
       "\n",
       "    .dataframe tbody tr th {\n",
       "        vertical-align: top;\n",
       "    }\n",
       "\n",
       "    .dataframe thead th {\n",
       "        text-align: right;\n",
       "    }\n",
       "</style>\n",
       "<table border=\"1\" class=\"dataframe\">\n",
       "  <thead>\n",
       "    <tr style=\"text-align: right;\">\n",
       "      <th></th>\n",
       "      <th>Crossing</th>\n",
       "      <th>Finishing</th>\n",
       "      <th>HeadingAccuracy</th>\n",
       "      <th>ShortPassing</th>\n",
       "      <th>Volleys</th>\n",
       "      <th>Dribbling</th>\n",
       "      <th>Curve</th>\n",
       "      <th>FKAccuracy</th>\n",
       "      <th>LongPassing</th>\n",
       "      <th>BallControl</th>\n",
       "      <th>...</th>\n",
       "      <th>Penalties</th>\n",
       "      <th>Composure</th>\n",
       "      <th>Marking</th>\n",
       "      <th>StandingTackle</th>\n",
       "      <th>SlidingTackle</th>\n",
       "      <th>GKDiving</th>\n",
       "      <th>GKHandling</th>\n",
       "      <th>GKKicking</th>\n",
       "      <th>GKPositioning</th>\n",
       "      <th>GKReflexes</th>\n",
       "    </tr>\n",
       "  </thead>\n",
       "  <tbody>\n",
       "    <tr>\n",
       "      <th>0</th>\n",
       "      <td>NaN</td>\n",
       "      <td>NaN</td>\n",
       "      <td>NaN</td>\n",
       "      <td>NaN</td>\n",
       "      <td>NaN</td>\n",
       "      <td>NaN</td>\n",
       "      <td>NaN</td>\n",
       "      <td>NaN</td>\n",
       "      <td>NaN</td>\n",
       "      <td>NaN</td>\n",
       "      <td>...</td>\n",
       "      <td>NaN</td>\n",
       "      <td>NaN</td>\n",
       "      <td>NaN</td>\n",
       "      <td>NaN</td>\n",
       "      <td>NaN</td>\n",
       "      <td>NaN</td>\n",
       "      <td>NaN</td>\n",
       "      <td>NaN</td>\n",
       "      <td>NaN</td>\n",
       "      <td>NaN</td>\n",
       "    </tr>\n",
       "    <tr>\n",
       "      <th>1</th>\n",
       "      <td>NaN</td>\n",
       "      <td>NaN</td>\n",
       "      <td>NaN</td>\n",
       "      <td>NaN</td>\n",
       "      <td>NaN</td>\n",
       "      <td>NaN</td>\n",
       "      <td>NaN</td>\n",
       "      <td>NaN</td>\n",
       "      <td>NaN</td>\n",
       "      <td>NaN</td>\n",
       "      <td>...</td>\n",
       "      <td>NaN</td>\n",
       "      <td>NaN</td>\n",
       "      <td>NaN</td>\n",
       "      <td>NaN</td>\n",
       "      <td>NaN</td>\n",
       "      <td>NaN</td>\n",
       "      <td>NaN</td>\n",
       "      <td>NaN</td>\n",
       "      <td>NaN</td>\n",
       "      <td>NaN</td>\n",
       "    </tr>\n",
       "    <tr>\n",
       "      <th>2</th>\n",
       "      <td>NaN</td>\n",
       "      <td>NaN</td>\n",
       "      <td>NaN</td>\n",
       "      <td>NaN</td>\n",
       "      <td>NaN</td>\n",
       "      <td>NaN</td>\n",
       "      <td>NaN</td>\n",
       "      <td>NaN</td>\n",
       "      <td>NaN</td>\n",
       "      <td>NaN</td>\n",
       "      <td>...</td>\n",
       "      <td>NaN</td>\n",
       "      <td>NaN</td>\n",
       "      <td>NaN</td>\n",
       "      <td>NaN</td>\n",
       "      <td>NaN</td>\n",
       "      <td>NaN</td>\n",
       "      <td>NaN</td>\n",
       "      <td>NaN</td>\n",
       "      <td>NaN</td>\n",
       "      <td>NaN</td>\n",
       "    </tr>\n",
       "    <tr>\n",
       "      <th>3</th>\n",
       "      <td>NaN</td>\n",
       "      <td>NaN</td>\n",
       "      <td>NaN</td>\n",
       "      <td>NaN</td>\n",
       "      <td>NaN</td>\n",
       "      <td>NaN</td>\n",
       "      <td>NaN</td>\n",
       "      <td>NaN</td>\n",
       "      <td>NaN</td>\n",
       "      <td>NaN</td>\n",
       "      <td>...</td>\n",
       "      <td>NaN</td>\n",
       "      <td>NaN</td>\n",
       "      <td>NaN</td>\n",
       "      <td>NaN</td>\n",
       "      <td>NaN</td>\n",
       "      <td>NaN</td>\n",
       "      <td>NaN</td>\n",
       "      <td>NaN</td>\n",
       "      <td>NaN</td>\n",
       "      <td>NaN</td>\n",
       "    </tr>\n",
       "    <tr>\n",
       "      <th>4</th>\n",
       "      <td>NaN</td>\n",
       "      <td>NaN</td>\n",
       "      <td>NaN</td>\n",
       "      <td>NaN</td>\n",
       "      <td>NaN</td>\n",
       "      <td>NaN</td>\n",
       "      <td>NaN</td>\n",
       "      <td>NaN</td>\n",
       "      <td>NaN</td>\n",
       "      <td>NaN</td>\n",
       "      <td>...</td>\n",
       "      <td>NaN</td>\n",
       "      <td>NaN</td>\n",
       "      <td>NaN</td>\n",
       "      <td>NaN</td>\n",
       "      <td>NaN</td>\n",
       "      <td>NaN</td>\n",
       "      <td>NaN</td>\n",
       "      <td>NaN</td>\n",
       "      <td>NaN</td>\n",
       "      <td>NaN</td>\n",
       "    </tr>\n",
       "  </tbody>\n",
       "</table>\n",
       "<p>5 rows × 34 columns</p>\n",
       "</div>"
      ],
      "text/plain": [
       "   Crossing  Finishing  HeadingAccuracy  ShortPassing  Volleys  Dribbling  \\\n",
       "0       NaN        NaN              NaN           NaN      NaN        NaN   \n",
       "1       NaN        NaN              NaN           NaN      NaN        NaN   \n",
       "2       NaN        NaN              NaN           NaN      NaN        NaN   \n",
       "3       NaN        NaN              NaN           NaN      NaN        NaN   \n",
       "4       NaN        NaN              NaN           NaN      NaN        NaN   \n",
       "\n",
       "   Curve  FKAccuracy  LongPassing  BallControl  ...  Penalties  Composure  \\\n",
       "0    NaN         NaN          NaN          NaN  ...        NaN        NaN   \n",
       "1    NaN         NaN          NaN          NaN  ...        NaN        NaN   \n",
       "2    NaN         NaN          NaN          NaN  ...        NaN        NaN   \n",
       "3    NaN         NaN          NaN          NaN  ...        NaN        NaN   \n",
       "4    NaN         NaN          NaN          NaN  ...        NaN        NaN   \n",
       "\n",
       "   Marking  StandingTackle  SlidingTackle  GKDiving  GKHandling  GKKicking  \\\n",
       "0      NaN             NaN            NaN       NaN         NaN        NaN   \n",
       "1      NaN             NaN            NaN       NaN         NaN        NaN   \n",
       "2      NaN             NaN            NaN       NaN         NaN        NaN   \n",
       "3      NaN             NaN            NaN       NaN         NaN        NaN   \n",
       "4      NaN             NaN            NaN       NaN         NaN        NaN   \n",
       "\n",
       "   GKPositioning  GKReflexes  \n",
       "0            NaN         NaN  \n",
       "1            NaN         NaN  \n",
       "2            NaN         NaN  \n",
       "3            NaN         NaN  \n",
       "4            NaN         NaN  \n",
       "\n",
       "[5 rows x 34 columns]"
      ]
     },
     "execution_count": 21,
     "metadata": {},
     "output_type": "execute_result"
    }
   ],
   "source": [
    "fifa_skills.head(5)"
   ]
  },
  {
   "cell_type": "code",
   "execution_count": 22,
   "id": "e5ab8823",
   "metadata": {
    "scrolled": true
   },
   "outputs": [
    {
     "name": "stdout",
     "output_type": "stream",
     "text": [
      "sofifa_id            int64\n",
      "player_url          object\n",
      "short_name          string\n",
      "long_name           string\n",
      "player_positions    string\n",
      "                     ...  \n",
      "player_face_url     object\n",
      "club_logo_url       object\n",
      "club_flag_url       object\n",
      "nation_logo_url     object\n",
      "nation_flag_url     object\n",
      "Length: 110, dtype: object\n"
     ]
    }
   ],
   "source": [
    "# Convierte el arreglo de numpy en un DataFrame\n",
    "fifa_df = pd.DataFrame(fifa)\n",
    "\n",
    "# Ahora puedes acceder a las columnas y verificar los tipos de datos\n",
    "print(fifa_df.dtypes)\n",
    "\n",
    "# A partir de aquí, puedes trabajar con fifa_df como un DataFrame de pandas"
   ]
  },
  {
   "cell_type": "code",
   "execution_count": 23,
   "id": "00d4acf5",
   "metadata": {
    "scrolled": true
   },
   "outputs": [
    {
     "data": {
      "text/plain": [
       "<seaborn.axisgrid.PairGrid at 0x1fa98232190>"
      ]
     },
     "execution_count": 23,
     "metadata": {},
     "output_type": "execute_result"
    },
    {
     "data": {
      "image/png": "[encoded data removed]",
      "text/plain": [
       "<Figure size 1250x1250 with 30 Axes>"
      ]
     },
     "metadata": {},
     "output_type": "display_data"
    }
   ],
   "source": [
    "sns.pairplot(fifa_skills[skills_ratings[0:5]])"
   ]
  },
  {
   "cell_type": "code",
   "execution_count": 24,
   "id": "d74c1c2e",
   "metadata": {},
   "outputs": [],
   "source": [
    "X = fifa.dropna()"
   ]
  },
  {
   "cell_type": "markdown",
   "id": "259396c2",
   "metadata": {},
   "source": [
    "## K MEANS"
   ]
  },
  {
   "cell_type": "code",
   "execution_count": 25,
   "id": "6e91b707",
   "metadata": {},
   "outputs": [],
   "source": [
    "# Cargar tus datos excluyendo la columna de URL\n",
    "fifa = pd.read_csv('fifa_22.csv', usecols=['overall', 'value_eur'], encoding='latin-1')"
   ]
  },
  {
   "cell_type": "code",
   "execution_count": 26,
   "id": "11b97300",
   "metadata": {},
   "outputs": [
    {
     "data": {
      "text/plain": [
       "Index(['overall', 'value_eur'], dtype='object')"
      ]
     },
     "execution_count": 26,
     "metadata": {},
     "output_type": "execute_result"
    }
   ],
   "source": [
    "fifa.columns"
   ]
  },
  {
   "cell_type": "code",
   "execution_count": 27,
   "id": "d590b547",
   "metadata": {},
   "outputs": [],
   "source": [
    "from sklearn.cluster import KMeans\n",
    "from sklearn.preprocessing import StandardScaler"
   ]
  },
  {
   "cell_type": "code",
   "execution_count": 28,
   "id": "e68567b6",
   "metadata": {},
   "outputs": [],
   "source": [
    "scaler = StandardScaler()\n",
    "scaler.fit(fifa)\n",
    "fifa_scaled = scaler.transform(fifa)"
   ]
  },
  {
   "cell_type": "code",
   "execution_count": 29,
   "id": "ea76f88a",
   "metadata": {},
   "outputs": [],
   "source": [
    "fifa_scaled = pd.DataFrame(data = fifa_scaled, columns = fifa.columns)"
   ]
  },
  {
   "cell_type": "code",
   "execution_count": 30,
   "id": "621d8b1a",
   "metadata": {},
   "outputs": [],
   "source": [
    "#Consideramos solo dos variables (Annual income and Spending Score) - no tenemos Label disponible\n",
    "X= fifa_scaled.iloc[:, [0,1]].values"
   ]
  },
  {
   "cell_type": "code",
   "execution_count": 31,
   "id": "bc147759",
   "metadata": {},
   "outputs": [
    {
     "data": {
      "image/png": "[encoded data removed]",
      "text/plain": [
       "<Figure size 2000x800 with 1 Axes>"
      ]
     },
     "metadata": {},
     "output_type": "display_data"
    }
   ],
   "source": [
    "plt.figure(figsize = (20, 8))\n",
    "sns.countplot(x=\"overall\", data=fifa)\n",
    "plt.title(\"Overall\")\n",
    "plt.xticks(rotation=90)\n",
    "plt.show()"
   ]
  },
  {
   "cell_type": "code",
   "execution_count": 32,
   "id": "0403a408",
   "metadata": {},
   "outputs": [],
   "source": [
    "# Selecciona las variables\n",
    "X = fifa[['overall', 'value_eur']]"
   ]
  },
  {
   "cell_type": "code",
   "execution_count": 33,
   "id": "78112ad5",
   "metadata": {},
   "outputs": [],
   "source": [
    "# Especifica el número de clusters (K)\n",
    "num_clusters = 4\n",
    "\n",
    "# Crea un objeto KMeans\n",
    "kmeans = KMeans(n_clusters=num_clusters, random_state=0)"
   ]
  },
  {
   "cell_type": "code",
   "execution_count": 34,
   "id": "ca30e757",
   "metadata": {},
   "outputs": [],
   "source": [
    "X = X.dropna()"
   ]
  },
  {
   "cell_type": "code",
   "execution_count": 35,
   "id": "1ed7a4a6",
   "metadata": {},
   "outputs": [
    {
     "data": {
      "text/html": [
       "<style>#sk-container-id-1 {color: black;}#sk-container-id-1 pre{padding: 0;}#sk-container-id-1 div.sk-toggleable {background-color: white;}#sk-container-id-1 label.sk-toggleable__label {cursor: pointer;display: block;width: 100%;margin-bottom: 0;padding: 0.3em;box-sizing: border-box;text-align: center;}#sk-container-id-1 label.sk-toggleable__label-arrow:before {content: \"▸\";float: left;margin-right: 0.25em;color: #696969;}#sk-container-id-1 label.sk-toggleable__label-arrow:hover:before {color: black;}#sk-container-id-1 div.sk-estimator:hover label.sk-toggleable__label-arrow:before {color: black;}#sk-container-id-1 div.sk-toggleable__content {max-height: 0;max-width: 0;overflow: hidden;text-align: left;background-color: #f0f8ff;}#sk-container-id-1 div.sk-toggleable__content pre {margin: 0.2em;color: black;border-radius: 0.25em;background-color: #f0f8ff;}#sk-container-id-1 input.sk-toggleable__control:checked~div.sk-toggleable__content {max-height: 200px;max-width: 100%;overflow: auto;}#sk-container-id-1 input.sk-toggleable__control:checked~label.sk-toggleable__label-arrow:before {content: \"▾\";}#sk-container-id-1 div.sk-estimator input.sk-toggleable__control:checked~label.sk-toggleable__label {background-color: #d4ebff;}#sk-container-id-1 div.sk-label input.sk-toggleable__control:checked~label.sk-toggleable__label {background-color: #d4ebff;}#sk-container-id-1 input.sk-hidden--visually {border: 0;clip: rect(1px 1px 1px 1px);clip: rect(1px, 1px, 1px, 1px);height: 1px;margin: -1px;overflow: hidden;padding: 0;position: absolute;width: 1px;}#sk-container-id-1 div.sk-estimator {font-family: monospace;background-color: #f0f8ff;border: 1px dotted black;border-radius: 0.25em;box-sizing: border-box;margin-bottom: 0.5em;}#sk-container-id-1 div.sk-estimator:hover {background-color: #d4ebff;}#sk-container-id-1 div.sk-parallel-item::after {content: \"\";width: 100%;border-bottom: 1px solid gray;flex-grow: 1;}#sk-container-id-1 div.sk-label:hover label.sk-toggleable__label {background-color: #d4ebff;}#sk-container-id-1 div.sk-serial::before {content: \"\";position: absolute;border-left: 1px solid gray;box-sizing: border-box;top: 0;bottom: 0;left: 50%;z-index: 0;}#sk-container-id-1 div.sk-serial {display: flex;flex-direction: column;align-items: center;background-color: white;padding-right: 0.2em;padding-left: 0.2em;position: relative;}#sk-container-id-1 div.sk-item {position: relative;z-index: 1;}#sk-container-id-1 div.sk-parallel {display: flex;align-items: stretch;justify-content: center;background-color: white;position: relative;}#sk-container-id-1 div.sk-item::before, #sk-container-id-1 div.sk-parallel-item::before {content: \"\";position: absolute;border-left: 1px solid gray;box-sizing: border-box;top: 0;bottom: 0;left: 50%;z-index: -1;}#sk-container-id-1 div.sk-parallel-item {display: flex;flex-direction: column;z-index: 1;position: relative;background-color: white;}#sk-container-id-1 div.sk-parallel-item:first-child::after {align-self: flex-end;width: 50%;}#sk-container-id-1 div.sk-parallel-item:last-child::after {align-self: flex-start;width: 50%;}#sk-container-id-1 div.sk-parallel-item:only-child::after {width: 0;}#sk-container-id-1 div.sk-dashed-wrapped {border: 1px dashed gray;margin: 0 0.4em 0.5em 0.4em;box-sizing: border-box;padding-bottom: 0.4em;background-color: white;}#sk-container-id-1 div.sk-label label {font-family: monospace;font-weight: bold;display: inline-block;line-height: 1.2em;}#sk-container-id-1 div.sk-label-container {text-align: center;}#sk-container-id-1 div.sk-container {/* jupyter's `normalize.less` sets `[hidden] { display: none; }` but bootstrap.min.css set `[hidden] { display: none !important; }` so we also need the `!important` here to be able to override the default hidden behavior on the sphinx rendered scikit-learn.org. See: https://github.com/scikit-learn/scikit-learn/issues/21755 */display: inline-block !important;position: relative;}#sk-container-id-1 div.sk-text-repr-fallback {display: none;}</style><div id=\"sk-container-id-1\" class=\"sk-top-container\"><div class=\"sk-text-repr-fallback\"><pre>KMeans(n_clusters=4, random_state=0)</pre><b>In a Jupyter environment, please rerun this cell to show the HTML representation or trust the notebook. <br />On GitHub, the HTML representation is unable to render, please try loading this page with nbviewer.org.</b></div><div class=\"sk-container\" hidden><div class=\"sk-item\"><div class=\"sk-estimator sk-toggleable\"><input class=\"sk-toggleable__control sk-hidden--visually\" id=\"sk-estimator-id-1\" type=\"checkbox\" checked><label for=\"sk-estimator-id-1\" class=\"sk-toggleable__label sk-toggleable__label-arrow\">KMeans</label><div class=\"sk-toggleable__content\"><pre>KMeans(n_clusters=4, random_state=0)</pre></div></div></div></div></div>"
      ],
      "text/plain": [
       "KMeans(n_clusters=4, random_state=0)"
      ]
     },
     "execution_count": 35,
     "metadata": {},
     "output_type": "execute_result"
    }
   ],
   "source": [
    "# Aplicamos K-Means y entrenamos el modelo\n",
    "kmeans.fit(X)\n"
   ]
  },
  {
   "cell_type": "code",
   "execution_count": 36,
   "id": "6ae2c14a",
   "metadata": {
    "scrolled": false
   },
   "outputs": [
    {
     "data": {
      "image/png": "[encoded data removed]",
      "text/plain": [
       "<Figure size 640x480 with 1 Axes>"
      ]
     },
     "metadata": {},
     "output_type": "display_data"
    }
   ],
   "source": [
    "\n",
    "# Aplicamos K-Means y entrenamos el modelo\n",
    "kmeans.fit(X)\n",
    "\n",
    "# Etiquetas de cluster asignadas a cada punto\n",
    "labels = kmeans.labels_\n",
    "\n",
    "# Coordenadas de los centroides de los clusters\n",
    "centroids = kmeans.cluster_centers_\n",
    "\n",
    "# Plotea los datos y los clusters encontrados\n",
    "plt.scatter(X['overall'], X['value_eur'], c=labels, cmap='rainbow')\n",
    "plt.scatter(centroids[:, 0], centroids[:, 1], marker='X', s=200, c='black', label='Centroids')\n",
    "plt.xlabel('Overall')\n",
    "plt.ylabel('Value EUR')\n",
    "plt.legend()\n",
    "plt.show()"
   ]
  },
  {
   "cell_type": "markdown",
   "id": "62e8d57f",
   "metadata": {},
   "source": [
    "Este modelo nos permitió agrupar a los jugadores según el overall, es decir, el desempeño que tienen los mismos y su valor económico establecido en el mercado. Los que tienen un rendimiento mayor tienen un valor de transferencia mayor."
   ]
  },
  {
   "cell_type": "code",
   "execution_count": 41,
   "id": "01cc3b90",
   "metadata": {},
   "outputs": [],
   "source": [
    "fifa = fifa.dropna()"
   ]
  },
  {
   "cell_type": "code",
   "execution_count": 42,
   "id": "53deb91a",
   "metadata": {
    "scrolled": false
   },
   "outputs": [
    {
     "data": {
      "image/png": "[encoded data removed]",
      "text/plain": [
       "<Figure size 640x480 with 1 Axes>"
      ]
     },
     "metadata": {},
     "output_type": "display_data"
    }
   ],
   "source": [
    "fifa_codo = np.random.rand(100, 2)\n",
    "\n",
    "# Rango de valores de K que probamos\n",
    "k_values = range(1, 11)\n",
    "\n",
    "# Calculo de la inercia para diferentes valores de K\n",
    "inertia = []\n",
    "for k in k_values:\n",
    "    kmeans = KMeans(n_clusters=k, random_state=0)\n",
    "    kmeans.fit(fifa)\n",
    "    inertia.append(kmeans.inertia_)\n",
    "\n",
    "#  Curva del codo\n",
    "plt.plot(k_values, inertia, marker='o')\n",
    "plt.xlabel('Número de Clusters (K)')\n",
    "plt.ylabel('Inercia')\n",
    "plt.title('Método del Codo para determinar K')\n",
    "plt.show()\n"
   ]
  },
  {
   "cell_type": "code",
   "execution_count": 43,
   "id": "5b6f4c8b",
   "metadata": {},
   "outputs": [
    {
     "name": "stdout",
     "output_type": "stream",
     "text": [
      "Puntuación de silueta: 0.8595511214174798\n"
     ]
    }
   ],
   "source": [
    "from sklearn.metrics import silhouette_score\n",
    "\n",
    "kmeans = KMeans(n_clusters=4, random_state=0)\n",
    "labels = kmeans.fit_predict(fifa)  # Reemplaza X con tus datos\n",
    "\n",
    "# Calcula la puntuación de silueta\n",
    "silhouette_avg = silhouette_score(X, labels)\n",
    "print(f\"Puntuación de silueta: {silhouette_avg}\")\n"
   ]
  },
  {
   "cell_type": "markdown",
   "id": "97bb72a4",
   "metadata": {},
   "source": [
    "Silhouette score: 0,85 quiere decir que los clústeres están bien separados por lo que funciona el modelo con 4"
   ]
  }
 ],
 "metadata": {
  "kernelspec": {
   "display_name": "Python 3 (ipykernel)",
   "language": "python",
   "name": "python3"
  },
  "language_info": {
   "codemirror_mode": {
    "name": "ipython",
    "version": 3
   },
   "file_extension": ".py",
   "mimetype": "text/x-python",
   "name": "python",
   "nbconvert_exporter": "python",
   "pygments_lexer": "ipython3",
   "version": "3.11.4"
  }
 },
 "nbformat": 4,
 "nbformat_minor": 5
}
